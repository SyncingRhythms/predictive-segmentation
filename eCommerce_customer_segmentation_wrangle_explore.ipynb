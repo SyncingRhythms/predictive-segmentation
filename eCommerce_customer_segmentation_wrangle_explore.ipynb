{
 "cells": [
  {
   "cell_type": "code",
   "execution_count": 1,
   "id": "36808ff6",
   "metadata": {},
   "outputs": [],
   "source": [
    "import numpy as np\n",
    "import pandas as pd\n",
    "import re, math\n",
    "import matplotlib.pyplot as plt\n",
    "from matplotlib import rcParams\n",
    "from cycler import cycler\n",
    "\n",
    "# configure pandas\n",
    "pd.set_option('display.width', 500)\n",
    "pd.set_option('display.max_columns', 100)"
   ]
  },
  {
   "cell_type": "code",
   "execution_count": 2,
   "id": "81d16732",
   "metadata": {
    "scrolled": true
   },
   "outputs": [
    {
     "data": {
      "text/html": [
       "<div>\n",
       "<style scoped>\n",
       "    .dataframe tbody tr th:only-of-type {\n",
       "        vertical-align: middle;\n",
       "    }\n",
       "\n",
       "    .dataframe tbody tr th {\n",
       "        vertical-align: top;\n",
       "    }\n",
       "\n",
       "    .dataframe thead th {\n",
       "        text-align: right;\n",
       "    }\n",
       "</style>\n",
       "<table border=\"1\" class=\"dataframe\">\n",
       "  <thead>\n",
       "    <tr style=\"text-align: right;\">\n",
       "      <th></th>\n",
       "      <th>Invoice</th>\n",
       "      <th>StockCode</th>\n",
       "      <th>Description</th>\n",
       "      <th>Quantity</th>\n",
       "      <th>InvoiceDate</th>\n",
       "      <th>Price</th>\n",
       "      <th>Customer ID</th>\n",
       "      <th>Country</th>\n",
       "    </tr>\n",
       "  </thead>\n",
       "  <tbody>\n",
       "    <tr>\n",
       "      <th>0</th>\n",
       "      <td>489434</td>\n",
       "      <td>85048</td>\n",
       "      <td>15CM CHRISTMAS GLASS BALL 20 LIGHTS</td>\n",
       "      <td>12</td>\n",
       "      <td>2009-12-01 07:45:00</td>\n",
       "      <td>6.95</td>\n",
       "      <td>13085.0</td>\n",
       "      <td>United Kingdom</td>\n",
       "    </tr>\n",
       "    <tr>\n",
       "      <th>1</th>\n",
       "      <td>489434</td>\n",
       "      <td>79323P</td>\n",
       "      <td>PINK CHERRY LIGHTS</td>\n",
       "      <td>12</td>\n",
       "      <td>2009-12-01 07:45:00</td>\n",
       "      <td>6.75</td>\n",
       "      <td>13085.0</td>\n",
       "      <td>United Kingdom</td>\n",
       "    </tr>\n",
       "    <tr>\n",
       "      <th>2</th>\n",
       "      <td>489434</td>\n",
       "      <td>79323W</td>\n",
       "      <td>WHITE CHERRY LIGHTS</td>\n",
       "      <td>12</td>\n",
       "      <td>2009-12-01 07:45:00</td>\n",
       "      <td>6.75</td>\n",
       "      <td>13085.0</td>\n",
       "      <td>United Kingdom</td>\n",
       "    </tr>\n",
       "    <tr>\n",
       "      <th>3</th>\n",
       "      <td>489434</td>\n",
       "      <td>22041</td>\n",
       "      <td>RECORD FRAME 7\" SINGLE SIZE</td>\n",
       "      <td>48</td>\n",
       "      <td>2009-12-01 07:45:00</td>\n",
       "      <td>2.10</td>\n",
       "      <td>13085.0</td>\n",
       "      <td>United Kingdom</td>\n",
       "    </tr>\n",
       "    <tr>\n",
       "      <th>4</th>\n",
       "      <td>489434</td>\n",
       "      <td>21232</td>\n",
       "      <td>STRAWBERRY CERAMIC TRINKET BOX</td>\n",
       "      <td>24</td>\n",
       "      <td>2009-12-01 07:45:00</td>\n",
       "      <td>1.25</td>\n",
       "      <td>13085.0</td>\n",
       "      <td>United Kingdom</td>\n",
       "    </tr>\n",
       "  </tbody>\n",
       "</table>\n",
       "</div>"
      ],
      "text/plain": [
       "  Invoice StockCode                          Description  Quantity         InvoiceDate  Price  Customer ID         Country\n",
       "0  489434     85048  15CM CHRISTMAS GLASS BALL 20 LIGHTS        12 2009-12-01 07:45:00   6.95      13085.0  United Kingdom\n",
       "1  489434    79323P                   PINK CHERRY LIGHTS        12 2009-12-01 07:45:00   6.75      13085.0  United Kingdom\n",
       "2  489434    79323W                  WHITE CHERRY LIGHTS        12 2009-12-01 07:45:00   6.75      13085.0  United Kingdom\n",
       "3  489434     22041         RECORD FRAME 7\" SINGLE SIZE         48 2009-12-01 07:45:00   2.10      13085.0  United Kingdom\n",
       "4  489434     21232       STRAWBERRY CERAMIC TRINKET BOX        24 2009-12-01 07:45:00   1.25      13085.0  United Kingdom"
      ]
     },
     "execution_count": 2,
     "metadata": {},
     "output_type": "execute_result"
    }
   ],
   "source": [
    "ret = pd.read_excel('/home/jk/data/online_retail_II.xlsx')\n",
    "ret.head()"
   ]
  },
  {
   "cell_type": "markdown",
   "id": "e94c023f",
   "metadata": {},
   "source": [
    "## Check Data Types"
   ]
  },
  {
   "cell_type": "code",
   "execution_count": 3,
   "id": "a68f7091",
   "metadata": {},
   "outputs": [
    {
     "data": {
      "text/plain": [
       "Invoice                object\n",
       "StockCode              object\n",
       "Description            object\n",
       "Quantity                int64\n",
       "InvoiceDate    datetime64[ns]\n",
       "Price                 float64\n",
       "Customer ID           float64\n",
       "Country                object\n",
       "dtype: object"
      ]
     },
     "execution_count": 3,
     "metadata": {},
     "output_type": "execute_result"
    }
   ],
   "source": [
    "ret.dtypes"
   ]
  },
  {
   "cell_type": "code",
   "execution_count": 6,
   "id": "532cd1ab",
   "metadata": {},
   "outputs": [
    {
     "name": "stdout",
     "output_type": "stream",
     "text": [
      "Number of Countries:  40\n"
     ]
    },
    {
     "data": {
      "text/plain": [
       "United Kingdom          485852\n",
       "EIRE                      9670\n",
       "Germany                   8129\n",
       "France                    5772\n",
       "Netherlands               2769\n",
       "Spain                     1278\n",
       "Switzerland               1187\n",
       "Portugal                  1101\n",
       "Belgium                   1054\n",
       "Channel Islands            906\n",
       "Sweden                     902\n",
       "Italy                      731\n",
       "Australia                  654\n",
       "Cyprus                     554\n",
       "Austria                    537\n",
       "Greece                     517\n",
       "United Arab Emirates       432\n",
       "Denmark                    428\n",
       "Norway                     369\n",
       "Finland                    354\n",
       "Unspecified                310\n",
       "USA                        244\n",
       "Japan                      224\n",
       "Poland                     194\n",
       "Malta                      172\n",
       "Lithuania                  154\n",
       "Singapore                  117\n",
       "RSA                        111\n",
       "Bahrain                    107\n",
       "Canada                      77\n",
       "Hong Kong                   76\n",
       "Thailand                    76\n",
       "Israel                      74\n",
       "Iceland                     71\n",
       "Korea                       63\n",
       "Brazil                      62\n",
       "West Indies                 54\n",
       "Bermuda                     34\n",
       "Nigeria                     32\n",
       "Lebanon                     13\n",
       "Name: Country, dtype: int64"
      ]
     },
     "execution_count": 6,
     "metadata": {},
     "output_type": "execute_result"
    }
   ],
   "source": [
    "# ret['Customer ID'] = ret['Customer ID'].astype(int)\n",
    "# ret.dtypes\n",
    "## - Tried covnerting customer ID from float to int but null or inf values blocked it, will explore below\n",
    "#___\n",
    "# Number of item purchase instances by country\n",
    "# each item purchased has its own row, so single transaction with multiple items is split across rows\n",
    "# Most intem instances in UK\n",
    "print('Number of Countries: ', ret['Country'].nunique())\n",
    "ret['Country'].value_counts()"
   ]
  },
  {
   "cell_type": "code",
   "execution_count": 7,
   "id": "52c969a8",
   "metadata": {},
   "outputs": [
    {
     "data": {
      "text/plain": [
       "(525461, 8)"
      ]
     },
     "execution_count": 7,
     "metadata": {},
     "output_type": "execute_result"
    }
   ],
   "source": [
    "ret.shape"
   ]
  },
  {
   "cell_type": "code",
   "execution_count": 8,
   "id": "d82c87a2",
   "metadata": {},
   "outputs": [
    {
     "name": "stdout",
     "output_type": "stream",
     "text": [
      "Number of Unique Customers:  4383\n",
      "Total number of item puchase instances:  525461\n"
     ]
    }
   ],
   "source": [
    "print('Number of Unique Customers: ', ret['Customer ID'].nunique())\n",
    "# each item purchased has its own row, so single transaction with multiple items is split across rows\n",
    "print('Total number of item puchase instances: ', ret.shape[0])"
   ]
  },
  {
   "cell_type": "code",
   "execution_count": 9,
   "id": "8739d9d9",
   "metadata": {},
   "outputs": [
    {
     "name": "stderr",
     "output_type": "stream",
     "text": [
      "/tmp/ipykernel_1037/818548229.py:3: FutureWarning: The frame.append method is deprecated and will be removed from pandas in a future version. Use pandas.concat instead.\n",
      "  tab_info=tab_info.append(pd.DataFrame(ret.isnull().sum()).T.rename(index={0:'null values (nb)'}))\n",
      "/tmp/ipykernel_1037/818548229.py:4: FutureWarning: The frame.append method is deprecated and will be removed from pandas in a future version. Use pandas.concat instead.\n",
      "  tab_info=tab_info.append(pd.DataFrame(ret.isnull().sum()/ret.shape[0]*100).T.\n"
     ]
    },
    {
     "data": {
      "text/html": [
       "<div>\n",
       "<style scoped>\n",
       "    .dataframe tbody tr th:only-of-type {\n",
       "        vertical-align: middle;\n",
       "    }\n",
       "\n",
       "    .dataframe tbody tr th {\n",
       "        vertical-align: top;\n",
       "    }\n",
       "\n",
       "    .dataframe thead th {\n",
       "        text-align: right;\n",
       "    }\n",
       "</style>\n",
       "<table border=\"1\" class=\"dataframe\">\n",
       "  <thead>\n",
       "    <tr style=\"text-align: right;\">\n",
       "      <th></th>\n",
       "      <th>Invoice</th>\n",
       "      <th>StockCode</th>\n",
       "      <th>Description</th>\n",
       "      <th>Quantity</th>\n",
       "      <th>InvoiceDate</th>\n",
       "      <th>Price</th>\n",
       "      <th>Customer ID</th>\n",
       "      <th>Country</th>\n",
       "    </tr>\n",
       "  </thead>\n",
       "  <tbody>\n",
       "    <tr>\n",
       "      <th>column type</th>\n",
       "      <td>object</td>\n",
       "      <td>object</td>\n",
       "      <td>object</td>\n",
       "      <td>int64</td>\n",
       "      <td>datetime64[ns]</td>\n",
       "      <td>float64</td>\n",
       "      <td>float64</td>\n",
       "      <td>object</td>\n",
       "    </tr>\n",
       "    <tr>\n",
       "      <th>null values (nb)</th>\n",
       "      <td>0</td>\n",
       "      <td>0</td>\n",
       "      <td>2928</td>\n",
       "      <td>0</td>\n",
       "      <td>0</td>\n",
       "      <td>0</td>\n",
       "      <td>107927</td>\n",
       "      <td>0</td>\n",
       "    </tr>\n",
       "    <tr>\n",
       "      <th>null values (%)</th>\n",
       "      <td>0.0</td>\n",
       "      <td>0.0</td>\n",
       "      <td>0.557225</td>\n",
       "      <td>0.0</td>\n",
       "      <td>0.0</td>\n",
       "      <td>0.0</td>\n",
       "      <td>20.539488</td>\n",
       "      <td>0.0</td>\n",
       "    </tr>\n",
       "  </tbody>\n",
       "</table>\n",
       "</div>"
      ],
      "text/plain": [
       "                 Invoice StockCode Description Quantity     InvoiceDate    Price Customer ID Country\n",
       "column type       object    object      object    int64  datetime64[ns]  float64     float64  object\n",
       "null values (nb)       0         0        2928        0               0        0      107927       0\n",
       "null values (%)      0.0       0.0    0.557225      0.0             0.0      0.0   20.539488     0.0"
      ]
     },
     "metadata": {},
     "output_type": "display_data"
    }
   ],
   "source": [
    "# Table of data types and number of null values for each column\n",
    "tab_info=pd.DataFrame(ret.dtypes).T.rename(index={0:'column type'})\n",
    "tab_info=tab_info.append(pd.DataFrame(ret.isnull().sum()).T.rename(index={0:'null values (nb)'}))\n",
    "tab_info=tab_info.append(pd.DataFrame(ret.isnull().sum()/ret.shape[0]*100).T.\n",
    "                         rename(index={0:'null values (%)'}))\n",
    "display(tab_info)"
   ]
  },
  {
   "cell_type": "markdown",
   "id": "cbf33e37",
   "metadata": {},
   "source": [
    "## Remove Rows missing Customer ID\n",
    "- 20% of transactions aren't assigned to a customer\n",
    "- Since we are building a customer segmentation, we will drop those rows\n",
    "- This still leaves us with plenty of instances"
   ]
  },
  {
   "cell_type": "code",
   "execution_count": 10,
   "id": "51893856",
   "metadata": {},
   "outputs": [
    {
     "name": "stdout",
     "output_type": "stream",
     "text": [
      "Dataframe dimensions: (417534, 8)\n"
     ]
    }
   ],
   "source": [
    "ret.dropna(axis = 0, subset = ['Customer ID'], inplace = True)\n",
    "print('Dataframe dimensions:', ret.shape)"
   ]
  },
  {
   "cell_type": "markdown",
   "id": "b106eac2",
   "metadata": {},
   "source": [
    "## Verify No null values remaining"
   ]
  },
  {
   "cell_type": "code",
   "execution_count": 11,
   "id": "08ec4cbc",
   "metadata": {},
   "outputs": [
    {
     "name": "stderr",
     "output_type": "stream",
     "text": [
      "/tmp/ipykernel_1037/818548229.py:3: FutureWarning: The frame.append method is deprecated and will be removed from pandas in a future version. Use pandas.concat instead.\n",
      "  tab_info=tab_info.append(pd.DataFrame(ret.isnull().sum()).T.rename(index={0:'null values (nb)'}))\n",
      "/tmp/ipykernel_1037/818548229.py:4: FutureWarning: The frame.append method is deprecated and will be removed from pandas in a future version. Use pandas.concat instead.\n",
      "  tab_info=tab_info.append(pd.DataFrame(ret.isnull().sum()/ret.shape[0]*100).T.\n"
     ]
    },
    {
     "data": {
      "text/html": [
       "<div>\n",
       "<style scoped>\n",
       "    .dataframe tbody tr th:only-of-type {\n",
       "        vertical-align: middle;\n",
       "    }\n",
       "\n",
       "    .dataframe tbody tr th {\n",
       "        vertical-align: top;\n",
       "    }\n",
       "\n",
       "    .dataframe thead th {\n",
       "        text-align: right;\n",
       "    }\n",
       "</style>\n",
       "<table border=\"1\" class=\"dataframe\">\n",
       "  <thead>\n",
       "    <tr style=\"text-align: right;\">\n",
       "      <th></th>\n",
       "      <th>Invoice</th>\n",
       "      <th>StockCode</th>\n",
       "      <th>Description</th>\n",
       "      <th>Quantity</th>\n",
       "      <th>InvoiceDate</th>\n",
       "      <th>Price</th>\n",
       "      <th>Customer ID</th>\n",
       "      <th>Country</th>\n",
       "    </tr>\n",
       "  </thead>\n",
       "  <tbody>\n",
       "    <tr>\n",
       "      <th>column type</th>\n",
       "      <td>object</td>\n",
       "      <td>object</td>\n",
       "      <td>object</td>\n",
       "      <td>int64</td>\n",
       "      <td>datetime64[ns]</td>\n",
       "      <td>float64</td>\n",
       "      <td>float64</td>\n",
       "      <td>object</td>\n",
       "    </tr>\n",
       "    <tr>\n",
       "      <th>null values (nb)</th>\n",
       "      <td>0</td>\n",
       "      <td>0</td>\n",
       "      <td>0</td>\n",
       "      <td>0</td>\n",
       "      <td>0</td>\n",
       "      <td>0</td>\n",
       "      <td>0</td>\n",
       "      <td>0</td>\n",
       "    </tr>\n",
       "    <tr>\n",
       "      <th>null values (%)</th>\n",
       "      <td>0.0</td>\n",
       "      <td>0.0</td>\n",
       "      <td>0.0</td>\n",
       "      <td>0.0</td>\n",
       "      <td>0.0</td>\n",
       "      <td>0.0</td>\n",
       "      <td>0.0</td>\n",
       "      <td>0.0</td>\n",
       "    </tr>\n",
       "  </tbody>\n",
       "</table>\n",
       "</div>"
      ],
      "text/plain": [
       "                 Invoice StockCode Description Quantity     InvoiceDate    Price Customer ID Country\n",
       "column type       object    object      object    int64  datetime64[ns]  float64     float64  object\n",
       "null values (nb)       0         0           0        0               0        0           0       0\n",
       "null values (%)      0.0       0.0         0.0      0.0             0.0      0.0         0.0     0.0"
      ]
     },
     "metadata": {},
     "output_type": "display_data"
    }
   ],
   "source": [
    "# Table of data types and number of null values for each column\n",
    "tab_info=pd.DataFrame(ret.dtypes).T.rename(index={0:'column type'})\n",
    "tab_info=tab_info.append(pd.DataFrame(ret.isnull().sum()).T.rename(index={0:'null values (nb)'}))\n",
    "tab_info=tab_info.append(pd.DataFrame(ret.isnull().sum()/ret.shape[0]*100).T.\n",
    "                         rename(index={0:'null values (%)'}))\n",
    "display(tab_info)"
   ]
  },
  {
   "cell_type": "code",
   "execution_count": 12,
   "id": "f96ade98",
   "metadata": {},
   "outputs": [
    {
     "data": {
      "text/html": [
       "<div>\n",
       "<style scoped>\n",
       "    .dataframe tbody tr th:only-of-type {\n",
       "        vertical-align: middle;\n",
       "    }\n",
       "\n",
       "    .dataframe tbody tr th {\n",
       "        vertical-align: top;\n",
       "    }\n",
       "\n",
       "    .dataframe thead th {\n",
       "        text-align: right;\n",
       "    }\n",
       "</style>\n",
       "<table border=\"1\" class=\"dataframe\">\n",
       "  <thead>\n",
       "    <tr style=\"text-align: right;\">\n",
       "      <th></th>\n",
       "      <th>products</th>\n",
       "      <th>transactions</th>\n",
       "      <th>customers</th>\n",
       "    </tr>\n",
       "  </thead>\n",
       "  <tbody>\n",
       "    <tr>\n",
       "      <th>quantity</th>\n",
       "      <td>4031</td>\n",
       "      <td>23587</td>\n",
       "      <td>4383</td>\n",
       "    </tr>\n",
       "  </tbody>\n",
       "</table>\n",
       "</div>"
      ],
      "text/plain": [
       "          products  transactions  customers\n",
       "quantity      4031         23587       4383"
      ]
     },
     "execution_count": 12,
     "metadata": {},
     "output_type": "execute_result"
    }
   ],
   "source": [
    "pd.DataFrame([{'products': len(ret['StockCode'].value_counts()),    \n",
    "               'transactions': len(ret['Invoice'].value_counts()),\n",
    "               'customers': len(ret['Customer ID'].value_counts()),  \n",
    "              }], columns = ['products', 'transactions', 'customers'], index = ['quantity'])"
   ]
  },
  {
   "cell_type": "markdown",
   "id": "748e97a1",
   "metadata": {},
   "source": [
    "### Convert Customer ID from float to int"
   ]
  },
  {
   "cell_type": "code",
   "execution_count": 13,
   "id": "fb01fbfc",
   "metadata": {},
   "outputs": [],
   "source": [
    "ret['Customer ID'] = ret['Customer ID'].astype(int)"
   ]
  },
  {
   "cell_type": "markdown",
   "id": "84ef3bc1",
   "metadata": {},
   "source": [
    "## Create baskets dataframe with one row for each transaction"
   ]
  },
  {
   "cell_type": "code",
   "execution_count": 14,
   "id": "5611ea01",
   "metadata": {},
   "outputs": [
    {
     "data": {
      "text/html": [
       "<div>\n",
       "<style scoped>\n",
       "    .dataframe tbody tr th:only-of-type {\n",
       "        vertical-align: middle;\n",
       "    }\n",
       "\n",
       "    .dataframe tbody tr th {\n",
       "        vertical-align: top;\n",
       "    }\n",
       "\n",
       "    .dataframe thead th {\n",
       "        text-align: right;\n",
       "    }\n",
       "</style>\n",
       "<table border=\"1\" class=\"dataframe\">\n",
       "  <thead>\n",
       "    <tr style=\"text-align: right;\">\n",
       "      <th></th>\n",
       "      <th>Customer ID</th>\n",
       "      <th>Invoice</th>\n",
       "      <th>Number of Products</th>\n",
       "    </tr>\n",
       "  </thead>\n",
       "  <tbody>\n",
       "    <tr>\n",
       "      <th>0</th>\n",
       "      <td>12346</td>\n",
       "      <td>491725</td>\n",
       "      <td>1</td>\n",
       "    </tr>\n",
       "    <tr>\n",
       "      <th>14</th>\n",
       "      <td>12346</td>\n",
       "      <td>C525274</td>\n",
       "      <td>1</td>\n",
       "    </tr>\n",
       "    <tr>\n",
       "      <th>13</th>\n",
       "      <td>12346</td>\n",
       "      <td>C525099</td>\n",
       "      <td>1</td>\n",
       "    </tr>\n",
       "    <tr>\n",
       "      <th>12</th>\n",
       "      <td>12346</td>\n",
       "      <td>C514024</td>\n",
       "      <td>10</td>\n",
       "    </tr>\n",
       "    <tr>\n",
       "      <th>11</th>\n",
       "      <td>12346</td>\n",
       "      <td>C495800</td>\n",
       "      <td>1</td>\n",
       "    </tr>\n",
       "    <tr>\n",
       "      <th>9</th>\n",
       "      <td>12346</td>\n",
       "      <td>499763</td>\n",
       "      <td>5</td>\n",
       "    </tr>\n",
       "    <tr>\n",
       "      <th>8</th>\n",
       "      <td>12346</td>\n",
       "      <td>495295</td>\n",
       "      <td>1</td>\n",
       "    </tr>\n",
       "    <tr>\n",
       "      <th>10</th>\n",
       "      <td>12346</td>\n",
       "      <td>513774</td>\n",
       "      <td>19</td>\n",
       "    </tr>\n",
       "    <tr>\n",
       "      <th>6</th>\n",
       "      <td>12346</td>\n",
       "      <td>493412</td>\n",
       "      <td>1</td>\n",
       "    </tr>\n",
       "    <tr>\n",
       "      <th>5</th>\n",
       "      <td>12346</td>\n",
       "      <td>493410</td>\n",
       "      <td>1</td>\n",
       "    </tr>\n",
       "  </tbody>\n",
       "</table>\n",
       "</div>"
      ],
      "text/plain": [
       "    Customer ID  Invoice  Number of Products\n",
       "0         12346   491725                   1\n",
       "14        12346  C525274                   1\n",
       "13        12346  C525099                   1\n",
       "12        12346  C514024                  10\n",
       "11        12346  C495800                   1\n",
       "9         12346   499763                   5\n",
       "8         12346   495295                   1\n",
       "10        12346   513774                  19\n",
       "6         12346   493412                   1\n",
       "5         12346   493410                   1"
      ]
     },
     "execution_count": 14,
     "metadata": {},
     "output_type": "execute_result"
    }
   ],
   "source": [
    "temp = ret.groupby(by=['Customer ID', 'Invoice'], as_index=False)['InvoiceDate'].count()\n",
    "nproducts_basket = temp.rename(columns = {'InvoiceDate':'Number of Products'})\n",
    "nproducts_basket.sort_values('Customer ID').head(10)"
   ]
  },
  {
   "cell_type": "code",
   "execution_count": 15,
   "id": "de73b1a0",
   "metadata": {},
   "outputs": [
    {
     "name": "stdout",
     "output_type": "stream",
     "text": [
      "Descriptive Stats for Number of Products in each basket\n"
     ]
    },
    {
     "data": {
      "text/plain": [
       "count    23587.000000\n",
       "mean        17.701870\n",
       "std         21.330514\n",
       "min          1.000000\n",
       "25%          3.000000\n",
       "50%         11.000000\n",
       "75%         24.000000\n",
       "max        270.000000\n",
       "Name: Number of Products, dtype: float64"
      ]
     },
     "execution_count": 15,
     "metadata": {},
     "output_type": "execute_result"
    }
   ],
   "source": [
    "print('Descriptive Stats for Number of Products in each basket')\n",
    "nproducts_basket['Number of Products'].describe()"
   ]
  },
  {
   "cell_type": "markdown",
   "id": "53edba2f",
   "metadata": {},
   "source": [
    "- If C appears at the beginning of Invoice the order was canceled\n",
    "- Descriptives show that some people only purchase a single items, while others buy upwards of 270 in one basket"
   ]
  },
  {
   "cell_type": "markdown",
   "id": "446109a5",
   "metadata": {},
   "source": [
    "### Check number of Canceled Orders"
   ]
  },
  {
   "cell_type": "code",
   "execution_count": 17,
   "id": "010fe1d9",
   "metadata": {},
   "outputs": [
    {
     "name": "stdout",
     "output_type": "stream",
     "text": [
      "Number of orders canceled: 4372/23587 (18.54%) \n"
     ]
    }
   ],
   "source": [
    "nproducts_basket['order_canceled'] = nproducts_basket['Invoice'].str.contains('C', na=False).astype(int)\n",
    "#____\n",
    "n1 = nproducts_basket['order_canceled'].sum()\n",
    "n2 = nproducts_basket.shape[0]\n",
    "print('Number of orders canceled: {}/{} ({:.2f}%) '.format(n1, n2, n1/n2*100))"
   ]
  },
  {
   "cell_type": "markdown",
   "id": "bf5ad4e9",
   "metadata": {},
   "source": [
    "- 18.5% of orders canceled, a sizeable amount"
   ]
  },
  {
   "cell_type": "code",
   "execution_count": 18,
   "id": "e78c0ad8",
   "metadata": {},
   "outputs": [
    {
     "data": {
      "text/html": [
       "<div>\n",
       "<style scoped>\n",
       "    .dataframe tbody tr th:only-of-type {\n",
       "        vertical-align: middle;\n",
       "    }\n",
       "\n",
       "    .dataframe tbody tr th {\n",
       "        vertical-align: top;\n",
       "    }\n",
       "\n",
       "    .dataframe thead th {\n",
       "        text-align: right;\n",
       "    }\n",
       "</style>\n",
       "<table border=\"1\" class=\"dataframe\">\n",
       "  <thead>\n",
       "    <tr style=\"text-align: right;\">\n",
       "      <th></th>\n",
       "      <th>Invoice</th>\n",
       "      <th>StockCode</th>\n",
       "      <th>Description</th>\n",
       "      <th>Quantity</th>\n",
       "      <th>InvoiceDate</th>\n",
       "      <th>Price</th>\n",
       "      <th>Customer ID</th>\n",
       "      <th>Country</th>\n",
       "    </tr>\n",
       "  </thead>\n",
       "  <tbody>\n",
       "    <tr>\n",
       "      <th>253040</th>\n",
       "      <td>513774</td>\n",
       "      <td>48185</td>\n",
       "      <td>DOORMAT FAIRY CAKE</td>\n",
       "      <td>1</td>\n",
       "      <td>2010-06-28 13:53:00</td>\n",
       "      <td>7.49</td>\n",
       "      <td>12346</td>\n",
       "      <td>United Kingdom</td>\n",
       "    </tr>\n",
       "    <tr>\n",
       "      <th>107804</th>\n",
       "      <td>499763</td>\n",
       "      <td>15056P</td>\n",
       "      <td>EDWARDIAN PARASOL PINK</td>\n",
       "      <td>1</td>\n",
       "      <td>2010-03-02 13:08:00</td>\n",
       "      <td>5.95</td>\n",
       "      <td>12346</td>\n",
       "      <td>United Kingdom</td>\n",
       "    </tr>\n",
       "    <tr>\n",
       "      <th>253046</th>\n",
       "      <td>513774</td>\n",
       "      <td>21955</td>\n",
       "      <td>DOORMAT UNION JACK GUNS AND ROSES</td>\n",
       "      <td>1</td>\n",
       "      <td>2010-06-28 13:53:00</td>\n",
       "      <td>7.49</td>\n",
       "      <td>12346</td>\n",
       "      <td>United Kingdom</td>\n",
       "    </tr>\n",
       "    <tr>\n",
       "      <th>253045</th>\n",
       "      <td>513774</td>\n",
       "      <td>20685</td>\n",
       "      <td>DOORMAT RED SPOT</td>\n",
       "      <td>1</td>\n",
       "      <td>2010-06-28 13:53:00</td>\n",
       "      <td>7.49</td>\n",
       "      <td>12346</td>\n",
       "      <td>United Kingdom</td>\n",
       "    </tr>\n",
       "    <tr>\n",
       "      <th>45228</th>\n",
       "      <td>493410</td>\n",
       "      <td>TEST001</td>\n",
       "      <td>This is a test product.</td>\n",
       "      <td>5</td>\n",
       "      <td>2010-01-04 09:24:00</td>\n",
       "      <td>4.50</td>\n",
       "      <td>12346</td>\n",
       "      <td>United Kingdom</td>\n",
       "    </tr>\n",
       "  </tbody>\n",
       "</table>\n",
       "</div>"
      ],
      "text/plain": [
       "       Invoice StockCode                        Description  Quantity         InvoiceDate  Price  Customer ID         Country\n",
       "253040  513774     48185                 DOORMAT FAIRY CAKE         1 2010-06-28 13:53:00   7.49        12346  United Kingdom\n",
       "107804  499763    15056P             EDWARDIAN PARASOL PINK         1 2010-03-02 13:08:00   5.95        12346  United Kingdom\n",
       "253046  513774     21955  DOORMAT UNION JACK GUNS AND ROSES         1 2010-06-28 13:53:00   7.49        12346  United Kingdom\n",
       "253045  513774     20685                   DOORMAT RED SPOT         1 2010-06-28 13:53:00   7.49        12346  United Kingdom\n",
       "45228   493410   TEST001            This is a test product.         5 2010-01-04 09:24:00   4.50        12346  United Kingdom"
      ]
     },
     "execution_count": 18,
     "metadata": {},
     "output_type": "execute_result"
    }
   ],
   "source": [
    "ret.sort_values('Customer ID').head()"
   ]
  },
  {
   "cell_type": "markdown",
   "id": "4a287b93",
   "metadata": {},
   "source": [
    "## Check if all canceled orders correspond to an order that was made previously"
   ]
  },
  {
   "cell_type": "code",
   "execution_count": 21,
   "id": "fb4b5f0f",
   "metadata": {},
   "outputs": [
    {
     "name": "stdout",
     "output_type": "stream",
     "text": [
      "Invoice                         C489449\n",
      "StockCode                         22087\n",
      "Description    PAPER BUNTING WHITE LACE\n",
      "Quantity                            -12\n",
      "InvoiceDate         2009-12-01 10:33:00\n",
      "Price                              2.95\n",
      "Customer ID                       16321\n",
      "Country                       Australia\n",
      "Name: 178, dtype: object\n",
      "---------------> HYPOTHESIS DOES NOT HOLD\n"
     ]
    }
   ],
   "source": [
    "check = ret[ret['Quantity'] < 0][['Customer ID','Quantity', 'StockCode','Description','Price']]\n",
    "for index, col in  check.iterrows():\n",
    "    if ret[(ret['Customer ID'] == col[0]) & (ret['Quantity'] == -col[1]) \n",
    "                & (ret['Description'] == col[2])].shape[0] == 0: \n",
    "        print(ret.loc[index])\n",
    "        print(15*'-'+'>'+' HYPOTHESIS DOES NOT HOLD')\n",
    "        break"
   ]
  },
  {
   "cell_type": "code",
   "execution_count": 22,
   "id": "77d942cb",
   "metadata": {},
   "outputs": [],
   "source": [
    "ret_cleaned = ret.copy(deep = True)\n",
    "ret_cleaned['QuantityCanceled'] = 0\n",
    "\n",
    "entry_to_remove = [] ; doubtful_entry = []\n",
    "\n",
    "for index, col in  ret.iterrows():\n",
    "    if (col['Quantity'] > 0) or col['Description'] == 'Discount': continue        \n",
    "    df_test = ret[(ret['Customer ID'] == col['Customer ID']) &\n",
    "                         (ret['StockCode']  == col['StockCode']) & \n",
    "                         (ret['InvoiceDate'] < col['InvoiceDate']) & \n",
    "                         (ret['Quantity']   > 0)].copy()\n",
    "    #_________________________________\n",
    "    # Cancelation WITHOUT counterpart\n",
    "    if (df_test.shape[0] == 0): \n",
    "        doubtful_entry.append(index)\n",
    "    #________________________________\n",
    "    # Cancelation WITH a counterpart\n",
    "    elif (df_test.shape[0] == 1): \n",
    "        index_order = df_test.index[0]\n",
    "        ret_cleaned.loc[index_order, 'QuantityCanceled'] = -col['Quantity']\n",
    "        entry_to_remove.append(index)        \n",
    "    #______________________________________________________________\n",
    "    # Various counterparts exist in orders: we delete the last one\n",
    "    elif (df_test.shape[0] > 1): \n",
    "        df_test.sort_index(axis=0 ,ascending=False, inplace = True)        \n",
    "        for ind, val in df_test.iterrows():\n",
    "            if val['Quantity'] < -col['Quantity']: continue\n",
    "            ret_cleaned.loc[ind, 'QuantityCanceled'] = -col['Quantity']\n",
    "            entry_to_remove.append(index) \n",
    "            break            "
   ]
  },
  {
   "cell_type": "markdown",
   "id": "77fc24cb",
   "metadata": {},
   "source": [
    "Above I checked the two cases, whether:\n",
    "\n",
    "    1. a cancel order exists without counterpart\n",
    "    2. there's at least one counterpart with the exact same quantity\n",
    "\n",
    "The index of the corresponding cancel order are respectively kept in the doubtful_entry and entry_to_remove lists whose sizes are:\n"
   ]
  },
  {
   "cell_type": "code",
   "execution_count": 27,
   "id": "ad1060fe",
   "metadata": {},
   "outputs": [
    {
     "name": "stdout",
     "output_type": "stream",
     "text": [
      "doubtful_entry: 1617\n",
      "entry_to_remove: 8069\n"
     ]
    }
   ],
   "source": [
    "print(\"doubtful_entry: {}\".format(len(doubtful_entry)))\n",
    "print(\"entry_to_remove: {}\".format(len(entry_to_remove)))"
   ]
  },
  {
   "cell_type": "code",
   "execution_count": 28,
   "id": "ff80f9a7",
   "metadata": {},
   "outputs": [
    {
     "name": "stdout",
     "output_type": "stream",
     "text": [
      "Percent of entry_to_remove: 1.9325372305009894\n",
      "Percent of doubtful_entry: 0.38727385075227405\n"
     ]
    }
   ],
   "source": [
    "print('Percent of entry_to_remove: {}'.format(len(entry_to_remove)/ret.shape[0]*100))\n",
    "print('Percent of doubtful_entry: {}'.format(len(doubtful_entry)/ret.shape[0]*100))"
   ]
  },
  {
   "cell_type": "markdown",
   "id": "f971811d",
   "metadata": {},
   "source": [
    "- With these canceled orders consisting of ~2% and .4% of the total data, seems best to delete them"
   ]
  },
  {
   "cell_type": "code",
   "execution_count": 38,
   "id": "6045aba0",
   "metadata": {},
   "outputs": [
    {
     "name": "stdout",
     "output_type": "stream",
     "text": [
      "number of remaining canceled orders: 61\n"
     ]
    }
   ],
   "source": [
    "ret_cleaned.drop(entry_to_remove, axis = 0, inplace = True)\n",
    "ret_cleaned.drop(doubtful_entry, axis = 0, inplace = True)\n",
    "remaining_entries = ret_cleaned[(ret_cleaned['Quantity'] < 0) & (ret_cleaned['StockCode'] != 'D')]\n",
    "print(\"number of remaining canceled orders: {}\".format(remaining_entries.shape[0]))"
   ]
  },
  {
   "cell_type": "markdown",
   "id": "ab46dce0",
   "metadata": {},
   "source": [
    "- after removing those, there are 61 remaining canceled orders"
   ]
  },
  {
   "cell_type": "code",
   "execution_count": 30,
   "id": "00e8fc34",
   "metadata": {},
   "outputs": [
    {
     "data": {
      "text/html": [
       "<div>\n",
       "<style scoped>\n",
       "    .dataframe tbody tr th:only-of-type {\n",
       "        vertical-align: middle;\n",
       "    }\n",
       "\n",
       "    .dataframe tbody tr th {\n",
       "        vertical-align: top;\n",
       "    }\n",
       "\n",
       "    .dataframe thead th {\n",
       "        text-align: right;\n",
       "    }\n",
       "</style>\n",
       "<table border=\"1\" class=\"dataframe\">\n",
       "  <thead>\n",
       "    <tr style=\"text-align: right;\">\n",
       "      <th></th>\n",
       "      <th>Invoice</th>\n",
       "      <th>StockCode</th>\n",
       "      <th>Description</th>\n",
       "      <th>Quantity</th>\n",
       "      <th>InvoiceDate</th>\n",
       "      <th>Price</th>\n",
       "      <th>Customer ID</th>\n",
       "      <th>Country</th>\n",
       "      <th>QuantityCanceled</th>\n",
       "    </tr>\n",
       "  </thead>\n",
       "  <tbody>\n",
       "    <tr>\n",
       "      <th>9324</th>\n",
       "      <td>C490133</td>\n",
       "      <td>21314</td>\n",
       "      <td>SMALL GLASS HEART TRINKET POT</td>\n",
       "      <td>-504</td>\n",
       "      <td>2009-12-03 18:36:00</td>\n",
       "      <td>1.85</td>\n",
       "      <td>17949</td>\n",
       "      <td>United Kingdom</td>\n",
       "      <td>0</td>\n",
       "    </tr>\n",
       "    <tr>\n",
       "      <th>26929</th>\n",
       "      <td>C491676</td>\n",
       "      <td>21868</td>\n",
       "      <td>POTTING SHED TEA MUG</td>\n",
       "      <td>-12</td>\n",
       "      <td>2009-12-13 12:09:00</td>\n",
       "      <td>1.25</td>\n",
       "      <td>14685</td>\n",
       "      <td>United Kingdom</td>\n",
       "      <td>0</td>\n",
       "    </tr>\n",
       "    <tr>\n",
       "      <th>28066</th>\n",
       "      <td>C491728</td>\n",
       "      <td>22139</td>\n",
       "      <td>RETRO SPOT TEA SET CERAMIC 11 PC</td>\n",
       "      <td>-4</td>\n",
       "      <td>2009-12-14 09:18:00</td>\n",
       "      <td>4.95</td>\n",
       "      <td>12471</td>\n",
       "      <td>Germany</td>\n",
       "      <td>0</td>\n",
       "    </tr>\n",
       "    <tr>\n",
       "      <th>46326</th>\n",
       "      <td>C493689</td>\n",
       "      <td>79000</td>\n",
       "      <td>MOROCCAN TEA GLASS</td>\n",
       "      <td>-18</td>\n",
       "      <td>2010-01-05 12:45:00</td>\n",
       "      <td>0.85</td>\n",
       "      <td>14606</td>\n",
       "      <td>United Kingdom</td>\n",
       "      <td>0</td>\n",
       "    </tr>\n",
       "    <tr>\n",
       "      <th>47742</th>\n",
       "      <td>C493836</td>\n",
       "      <td>84050</td>\n",
       "      <td>PINK HEART SHAPE EGG FRYING PAN</td>\n",
       "      <td>-24</td>\n",
       "      <td>2010-01-07 13:49:00</td>\n",
       "      <td>1.65</td>\n",
       "      <td>12839</td>\n",
       "      <td>United Kingdom</td>\n",
       "      <td>0</td>\n",
       "    </tr>\n",
       "  </tbody>\n",
       "</table>\n",
       "</div>"
      ],
      "text/plain": [
       "       Invoice StockCode                        Description  Quantity         InvoiceDate  Price  Customer ID         Country  QuantityCanceled\n",
       "9324   C490133     21314      SMALL GLASS HEART TRINKET POT      -504 2009-12-03 18:36:00   1.85        17949  United Kingdom                 0\n",
       "26929  C491676     21868               POTTING SHED TEA MUG       -12 2009-12-13 12:09:00   1.25        14685  United Kingdom                 0\n",
       "28066  C491728     22139  RETRO SPOT TEA SET CERAMIC 11 PC         -4 2009-12-14 09:18:00   4.95        12471         Germany                 0\n",
       "46326  C493689     79000                 MOROCCAN TEA GLASS       -18 2010-01-05 12:45:00   0.85        14606  United Kingdom                 0\n",
       "47742  C493836     84050    PINK HEART SHAPE EGG FRYING PAN       -24 2010-01-07 13:49:00   1.65        12839  United Kingdom                 0"
      ]
     },
     "execution_count": 30,
     "metadata": {},
     "output_type": "execute_result"
    }
   ],
   "source": [
    "remaining_entries.head()"
   ]
  },
  {
   "cell_type": "code",
   "execution_count": 37,
   "id": "5f3fce4e",
   "metadata": {},
   "outputs": [
    {
     "data": {
      "text/html": [
       "<div>\n",
       "<style scoped>\n",
       "    .dataframe tbody tr th:only-of-type {\n",
       "        vertical-align: middle;\n",
       "    }\n",
       "\n",
       "    .dataframe tbody tr th {\n",
       "        vertical-align: top;\n",
       "    }\n",
       "\n",
       "    .dataframe thead th {\n",
       "        text-align: right;\n",
       "    }\n",
       "</style>\n",
       "<table border=\"1\" class=\"dataframe\">\n",
       "  <thead>\n",
       "    <tr style=\"text-align: right;\">\n",
       "      <th></th>\n",
       "      <th>Invoice</th>\n",
       "      <th>StockCode</th>\n",
       "      <th>Description</th>\n",
       "      <th>Quantity</th>\n",
       "      <th>InvoiceDate</th>\n",
       "      <th>Price</th>\n",
       "      <th>Customer ID</th>\n",
       "      <th>Country</th>\n",
       "      <th>QuantityCanceled</th>\n",
       "    </tr>\n",
       "  </thead>\n",
       "  <tbody>\n",
       "  </tbody>\n",
       "</table>\n",
       "</div>"
      ],
      "text/plain": [
       "Empty DataFrame\n",
       "Columns: [Invoice, StockCode, Description, Quantity, InvoiceDate, Price, Customer ID, Country, QuantityCanceled]\n",
       "Index: []"
      ]
     },
     "execution_count": 37,
     "metadata": {},
     "output_type": "execute_result"
    }
   ],
   "source": [
    "ret_cleaned[(ret_cleaned['Customer ID'] == 12471) & (ret_cleaned['StockCode'] == '22139')]"
   ]
  },
  {
   "cell_type": "markdown",
   "id": "f664090b",
   "metadata": {},
   "source": [
    "- these canceled order dont appear in the ret_cleaned df"
   ]
  },
  {
   "cell_type": "code",
   "execution_count": 39,
   "id": "9069e553",
   "metadata": {},
   "outputs": [
    {
     "data": {
      "text/plain": [
       "array(['POST', 'D', 'C2', 'M', 'BANK CHARGES', 'TEST001', 'TEST002',\n",
       "       'PADS', 'ADJUST', 'ADJUST2', 'SP1002'], dtype=object)"
      ]
     },
     "execution_count": 39,
     "metadata": {},
     "output_type": "execute_result"
    }
   ],
   "source": [
    "list_special_codes = ret_cleaned[ret_cleaned['StockCode'].str.contains('^[a-zA-Z]+', regex=True, na=False)]['StockCode'].unique()\n",
    "list_special_codes"
   ]
  },
  {
   "cell_type": "code",
   "execution_count": 40,
   "id": "a25dc675",
   "metadata": {},
   "outputs": [
    {
     "data": {
      "text/plain": [
       "85123A    3153\n",
       "85099B    1743\n",
       "22423     1708\n",
       "21212     1586\n",
       "21232     1407\n",
       "Name: StockCode, dtype: int64"
      ]
     },
     "execution_count": 40,
     "metadata": {},
     "output_type": "execute_result"
    }
   ],
   "source": [
    "ret_cleaned['StockCode'].value_counts().head()"
   ]
  },
  {
   "cell_type": "markdown",
   "id": "3d0830ec",
   "metadata": {},
   "source": [
    "### Create Total Price Column\n",
    "- subtracting out quantities canceled"
   ]
  },
  {
   "cell_type": "code",
   "execution_count": 41,
   "id": "45a473bd",
   "metadata": {
    "scrolled": false
   },
   "outputs": [
    {
     "data": {
      "text/html": [
       "<div>\n",
       "<style scoped>\n",
       "    .dataframe tbody tr th:only-of-type {\n",
       "        vertical-align: middle;\n",
       "    }\n",
       "\n",
       "    .dataframe tbody tr th {\n",
       "        vertical-align: top;\n",
       "    }\n",
       "\n",
       "    .dataframe thead th {\n",
       "        text-align: right;\n",
       "    }\n",
       "</style>\n",
       "<table border=\"1\" class=\"dataframe\">\n",
       "  <thead>\n",
       "    <tr style=\"text-align: right;\">\n",
       "      <th></th>\n",
       "      <th>Invoice</th>\n",
       "      <th>StockCode</th>\n",
       "      <th>Description</th>\n",
       "      <th>Quantity</th>\n",
       "      <th>InvoiceDate</th>\n",
       "      <th>Price</th>\n",
       "      <th>Customer ID</th>\n",
       "      <th>Country</th>\n",
       "      <th>QuantityCanceled</th>\n",
       "      <th>TotalPrice</th>\n",
       "    </tr>\n",
       "  </thead>\n",
       "  <tbody>\n",
       "    <tr>\n",
       "      <th>107800</th>\n",
       "      <td>499763</td>\n",
       "      <td>20682</td>\n",
       "      <td>RED SPOTTY CHILDS UMBRELLA</td>\n",
       "      <td>1</td>\n",
       "      <td>2010-03-02 13:08:00</td>\n",
       "      <td>3.25</td>\n",
       "      <td>12346</td>\n",
       "      <td>United Kingdom</td>\n",
       "      <td>0</td>\n",
       "      <td>3.25</td>\n",
       "    </tr>\n",
       "    <tr>\n",
       "      <th>253035</th>\n",
       "      <td>513774</td>\n",
       "      <td>22690</td>\n",
       "      <td>DOORMAT HOME SWEET HOME BLUE</td>\n",
       "      <td>1</td>\n",
       "      <td>2010-06-28 13:53:00</td>\n",
       "      <td>7.49</td>\n",
       "      <td>12346</td>\n",
       "      <td>United Kingdom</td>\n",
       "      <td>0</td>\n",
       "      <td>7.49</td>\n",
       "    </tr>\n",
       "    <tr>\n",
       "      <th>107801</th>\n",
       "      <td>499763</td>\n",
       "      <td>20679</td>\n",
       "      <td>EDWARDIAN PARASOL RED</td>\n",
       "      <td>1</td>\n",
       "      <td>2010-03-02 13:08:00</td>\n",
       "      <td>5.95</td>\n",
       "      <td>12346</td>\n",
       "      <td>United Kingdom</td>\n",
       "      <td>0</td>\n",
       "      <td>5.95</td>\n",
       "    </tr>\n",
       "    <tr>\n",
       "      <th>27994</th>\n",
       "      <td>491725</td>\n",
       "      <td>TEST001</td>\n",
       "      <td>This is a test product.</td>\n",
       "      <td>10</td>\n",
       "      <td>2009-12-14 08:34:00</td>\n",
       "      <td>4.50</td>\n",
       "      <td>12346</td>\n",
       "      <td>United Kingdom</td>\n",
       "      <td>0</td>\n",
       "      <td>45.00</td>\n",
       "    </tr>\n",
       "    <tr>\n",
       "      <th>370048</th>\n",
       "      <td>C525099</td>\n",
       "      <td>D</td>\n",
       "      <td>Discount</td>\n",
       "      <td>-1</td>\n",
       "      <td>2010-10-04 09:54:00</td>\n",
       "      <td>1.00</td>\n",
       "      <td>12346</td>\n",
       "      <td>United Kingdom</td>\n",
       "      <td>0</td>\n",
       "      <td>-1.00</td>\n",
       "    </tr>\n",
       "  </tbody>\n",
       "</table>\n",
       "</div>"
      ],
      "text/plain": [
       "        Invoice StockCode                    Description  Quantity         InvoiceDate  Price  Customer ID         Country  QuantityCanceled  TotalPrice\n",
       "107800   499763     20682     RED SPOTTY CHILDS UMBRELLA         1 2010-03-02 13:08:00   3.25        12346  United Kingdom                 0        3.25\n",
       "253035   513774     22690  DOORMAT HOME SWEET HOME BLUE          1 2010-06-28 13:53:00   7.49        12346  United Kingdom                 0        7.49\n",
       "107801   499763     20679          EDWARDIAN PARASOL RED         1 2010-03-02 13:08:00   5.95        12346  United Kingdom                 0        5.95\n",
       "27994    491725   TEST001        This is a test product.        10 2009-12-14 08:34:00   4.50        12346  United Kingdom                 0       45.00\n",
       "370048  C525099         D                       Discount        -1 2010-10-04 09:54:00   1.00        12346  United Kingdom                 0       -1.00"
      ]
     },
     "execution_count": 41,
     "metadata": {},
     "output_type": "execute_result"
    }
   ],
   "source": [
    "ret_cleaned['TotalPrice'] = ret_cleaned['Price'] * (ret_cleaned['Quantity'] - ret_cleaned['QuantityCanceled'])\n",
    "ret_cleaned.sort_values('Customer ID').head()"
   ]
  },
  {
   "cell_type": "markdown",
   "id": "71d5a52e",
   "metadata": {},
   "source": [
    "### Combine Individual Items from same order together to create a total Basket Price"
   ]
  },
  {
   "cell_type": "code",
   "execution_count": 42,
   "id": "fd057871",
   "metadata": {},
   "outputs": [
    {
     "data": {
      "text/html": [
       "<div>\n",
       "<style scoped>\n",
       "    .dataframe tbody tr th:only-of-type {\n",
       "        vertical-align: middle;\n",
       "    }\n",
       "\n",
       "    .dataframe tbody tr th {\n",
       "        vertical-align: top;\n",
       "    }\n",
       "\n",
       "    .dataframe thead th {\n",
       "        text-align: right;\n",
       "    }\n",
       "</style>\n",
       "<table border=\"1\" class=\"dataframe\">\n",
       "  <thead>\n",
       "    <tr style=\"text-align: right;\">\n",
       "      <th></th>\n",
       "      <th>Customer ID</th>\n",
       "      <th>Invoice</th>\n",
       "      <th>BasketPrice</th>\n",
       "      <th>InvoiceDate</th>\n",
       "    </tr>\n",
       "  </thead>\n",
       "  <tbody>\n",
       "    <tr>\n",
       "      <th>0</th>\n",
       "      <td>12346</td>\n",
       "      <td>491725</td>\n",
       "      <td>45.0</td>\n",
       "      <td>2009-12-14 08:34:00</td>\n",
       "    </tr>\n",
       "    <tr>\n",
       "      <th>1</th>\n",
       "      <td>12346</td>\n",
       "      <td>491742</td>\n",
       "      <td>22.5</td>\n",
       "      <td>2009-12-14 11:00:00</td>\n",
       "    </tr>\n",
       "    <tr>\n",
       "      <th>2</th>\n",
       "      <td>12346</td>\n",
       "      <td>491744</td>\n",
       "      <td>22.5</td>\n",
       "      <td>2009-12-14 11:02:00</td>\n",
       "    </tr>\n",
       "    <tr>\n",
       "      <th>3</th>\n",
       "      <td>12346</td>\n",
       "      <td>492718</td>\n",
       "      <td>22.5</td>\n",
       "      <td>2009-12-18 10:47:00</td>\n",
       "    </tr>\n",
       "    <tr>\n",
       "      <th>4</th>\n",
       "      <td>12346</td>\n",
       "      <td>492722</td>\n",
       "      <td>1.0</td>\n",
       "      <td>2009-12-18 10:55:00</td>\n",
       "    </tr>\n",
       "  </tbody>\n",
       "</table>\n",
       "</div>"
      ],
      "text/plain": [
       "   Customer ID Invoice  BasketPrice         InvoiceDate\n",
       "0        12346  491725         45.0 2009-12-14 08:34:00\n",
       "1        12346  491742         22.5 2009-12-14 11:00:00\n",
       "2        12346  491744         22.5 2009-12-14 11:02:00\n",
       "3        12346  492718         22.5 2009-12-18 10:47:00\n",
       "4        12346  492722          1.0 2009-12-18 10:55:00"
      ]
     },
     "execution_count": 42,
     "metadata": {},
     "output_type": "execute_result"
    }
   ],
   "source": [
    "#\n",
    "temp = ret_cleaned.groupby(by=['Customer ID', 'Invoice'], as_index=False)['TotalPrice'].sum()\n",
    "basket = temp.rename(columns = {'TotalPrice':'BasketPrice'})\n",
    "#\n",
    "ret_cleaned['InvoiceDate_int'] = ret_cleaned['InvoiceDate'].astype('int64')\n",
    "temp = ret_cleaned.groupby(by=['Customer ID', 'Invoice'], as_index=False)['InvoiceDate_int'].mean()\n",
    "ret_cleaned.drop('InvoiceDate_int', axis = 1, inplace = True)\n",
    "basket.loc[:, 'InvoiceDate'] = pd.to_datetime(temp['InvoiceDate_int'])\n",
    "#\n",
    "basket = basket[basket['BasketPrice'] > 0]\n",
    "basket.sort_values('Customer ID').head()"
   ]
  },
  {
   "cell_type": "code",
   "execution_count": 46,
   "id": "0d7bf763",
   "metadata": {
    "scrolled": false
   },
   "outputs": [
    {
     "data": {
      "image/png": "[encoded data removed]",
      "text/plain": [
       "<Figure size 1100x600 with 1 Axes>"
      ]
     },
     "metadata": {},
     "output_type": "display_data"
    }
   ],
   "source": [
    "price_range = [0, 50, 100, 200, 500, 1000, 5000, 50000]\n",
    "count_price = []\n",
    "for i, price in enumerate(price_range):\n",
    "    if i == 0: continue\n",
    "    val = basket[(basket['BasketPrice'] < price) &\n",
    "                       (basket['BasketPrice'] > price_range[i-1])]['BasketPrice'].count()\n",
    "    count_price.append(val)\n",
    "# Construct Pie Chart        \n",
    "plt.rc('font', weight='bold')\n",
    "f, ax = plt.subplots(figsize=(11, 6))\n",
    "colors = ['skyblue', 'wheat', 'yellow', 'violet', 'c', 'royalblue','firebrick']\n",
    "labels = [ '£{}<.<£{}'.format(price_range[i-1], s) for i,s in enumerate(price_range) if i != 0]\n",
    "sizes  = count_price\n",
    "explode = [0.0 if sizes[i] < 100 else 0.0 for i in range(len(sizes))]\n",
    "ax.pie(sizes, explode = explode, labels=labels, colors = colors,\n",
    "       autopct = lambda x:'{:1.0f}%'.format(x) if x > 1 else '',\n",
    "       shadow = False, startangle=0)\n",
    "ax.axis('equal')\n",
    "f.text(0.5, 1.01, \"Basket Price Breakdown\", ha='center', fontsize = 18);"
   ]
  },
  {
   "cell_type": "markdown",
   "id": "dd9ef1a2",
   "metadata": {},
   "source": [
    "- Most purchases are quite large with ~65% of basket prices exceeding 200 pounds"
   ]
  },
  {
   "cell_type": "code",
   "execution_count": 48,
   "id": "212ea4fd",
   "metadata": {},
   "outputs": [],
   "source": [
    "# save dataframes as csv\n",
    "ret.to_csv('/home/jk/repos/predictive-segmentation/data/online_retail_II_wrangled.csv', index=False)\n",
    "ret_cleaned.to_csv('/home/jk/repos/predictive-segmentation/data/online_retail_II_w-cleaned.csv', index=False)\n",
    "basket.to_csv('/home/jk/repos/predictive-segmentation/data/online_retail_II_baskets.csv', index=False)"
   ]
  }
 ],
 "metadata": {
  "kernelspec": {
   "display_name": "Python 3 (ipykernel)",
   "language": "python",
   "name": "python3"
  },
  "language_info": {
   "codemirror_mode": {
    "name": "ipython",
    "version": 3
   },
   "file_extension": ".py",
   "mimetype": "text/x-python",
   "name": "python",
   "nbconvert_exporter": "python",
   "pygments_lexer": "ipython3",
   "version": "3.11.3"
  }
 },
 "nbformat": 4,
 "nbformat_minor": 5
}
